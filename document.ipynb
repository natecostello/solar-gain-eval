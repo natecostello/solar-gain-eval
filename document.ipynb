{
 "cells": [
  {
   "cell_type": "raw",
   "metadata": {
    "vscode": {
     "languageId": "raw"
    }
   },
   "source": [
    "---\n",
    "title: Insert Title\n",
    "subtitle: DRAFT\n",
    "format:\n",
    "  eisvogel-pdf:\n",
    "    titlepage: true\n",
    "    toc: true\n",
    "    number-sections: true\n",
    "    titlepage-rule-color: \"d42d35\"\n",
    "    titlepage-logo: \"logo/logo.png\"\n",
    "    code-block-font-size: \\fontsize{9}{11}\\selectfont  # This displays 79 characters per line in code blocks\n",
    "    listings: true\n",
    "author: Insert Business Unit\n",
    "echo: false\n",
    "bibliography: references.bib\n",
    "execute:\n",
    "  enabled: true\n",
    "filters:\n",
    "  - include-code-files\n",
    "  - _extensions/git-version/git-version.lua\n",
    "---"
   ]
  },
  {
   "cell_type": "markdown",
   "metadata": {},
   "source": [
    "# Top Level Header"
   ]
  },
  {
   "cell_type": "markdown",
   "metadata": {},
   "source": [
    "Lorum ipsum dolor sit amet, consectetur adipiscing elit. Nullam nec pur... "
   ]
  },
  {
   "cell_type": "markdown",
   "metadata": {},
   "source": [
    "## Second Level Header"
   ]
  },
  {
   "cell_type": "markdown",
   "metadata": {},
   "source": [
    "Lorum ipsum dolor sit amet, consectetur adipiscing elit. Nullam nec pur...\n",
    "\n",
    "Per reference @IEC_TR_62240-1, blah blah blah."
   ]
  },
  {
   "cell_type": "markdown",
   "metadata": {},
   "source": [
    "# References"
   ]
  }
 ],
 "metadata": {
  "kernelspec": {
   "display_name": "Python 3",
   "language": "python",
   "name": "python3"
  },
  "language_info": {
   "codemirror_mode": {
    "name": "ipython",
    "version": 3
   },
   "file_extension": ".py",
   "mimetype": "text/x-python",
   "name": "python",
   "nbconvert_exporter": "python",
   "pygments_lexer": "ipython3",
   "version": "3.12.1"
  }
 },
 "nbformat": 4,
 "nbformat_minor": 2
}
