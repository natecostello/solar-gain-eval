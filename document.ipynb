{
 "cells": [
  {
   "cell_type": "raw",
   "metadata": {
    "vscode": {
     "languageId": "raw"
    }
   },
   "source": [
    "---\n",
    "title: Insert Title\n",
    "subtitle: DRAFT\n",
    "format:\n",
    "  eisvogel-pdf:\n",
    "    titlepage: true\n",
    "    toc: true\n",
    "    number-sections: true\n",
    "    titlepage-rule-color: \"d42d35\"\n",
    "    titlepage-logo: \"logo/logo.png\"\n",
    "    code-block-font-size: \\fontsize{9}{11}\\selectfont  # This displays 79 characters per line in code blocks\n",
    "    listings: true\n",
    "author: Insert Business Unit\n",
    "echo: false\n",
    "bibliography: references.bib\n",
    "execute:\n",
    "  enabled: true\n",
    "filters:\n",
    "  - include-code-files\n",
    "  - _extensions/git-version/git-version.lua\n",
    "---"
   ]
  },
  {
   "cell_type": "code",
   "execution_count": null,
   "metadata": {},
   "outputs": [],
   "source": [
    "import numpy as np\n",
    "from scipy.optimize import fsolve\n",
    "\n",
    "# Parameters\n",
    "thickness_neoprene = 0.003175  # Neoprene thickness (in)\n",
    "thickness_thinsulate = 1.0  # Thinsulate thickness (in)\n",
    "thickness_plywood = 0.25  # Plywood thickness (in)\n",
    "T_ambient = 95  # Ambient temperature (°F) - Standard EER test conditions\n",
    "#T_ambient = 110  # Ambient temperature (°F) - Extreme conditions\n",
    "T_bulk_interior = 80  # Bulk air temperature (°F) - Standard EER test conditions\n",
    "eer = 10.0  # Energy Efficiency Ratio (EER) of the air conditioner (BTU/hr/W)\n",
    "\n",
    "# Inputs\n",
    "I = 1000  # Incident radiation (W/m²), set to 0 for no radiation\n",
    "emissivity = 0.9  # Emissivity\n",
    "reflectivity = 0.5  # Reflectivity\n",
    "h_ext = 5  # External convective coefficient (W/m²·K)\n",
    "h_int = 10  # Internal convective coefficient (W/m²·K)\n",
    "\n",
    "# Constants\n",
    "sigma = 5.67e-8  # Stefan-Boltzmann constant (W/m^2·K^4)\n",
    "A = 1.0  # Surface area (m²)\n",
    "k_neoprene = 0.036  # Thermal conductivity of neoprene (W/m·K)\n",
    "k_thinsulate = 0.0387  # Thermal conductivity of thinsulate (W/m·K)\n",
    "k_plywood = 0.1153  # Thermal conductivity of plywood (W/m·K)\n",
    "\n",
    "# Function to convert inches to meters\n",
    "def inches_to_meters(inches):\n",
    "    return inches * 0.0254\n",
    "\n",
    "# Function to convert Fahrenheit to Kelvin\n",
    "def fahrenheit_to_kelvin(fahrenheit):\n",
    "    return (fahrenheit - 32) * 5/9 + 273.15\n",
    "\n",
    "# Function to convert Kelvin to Fahrenheit\n",
    "def kelvin_to_fahrenheit(kelvin):\n",
    "    return (kelvin - 273.15) * 9/5 + 32\n",
    "\n",
    "# Function to convert Watts to BTU/hr\n",
    "def watts_to_btu_per_hr(watts):\n",
    "    return watts * 3.412\n",
    "\n",
    "# Function to calculate energy (in watts) for cooling based on EER\n",
    "def energy_to_cool(eer, Q_removed_btu_per_hr):\n",
    "    return Q_removed_btu_per_hr / eer\n",
    "\n",
    "# Conversions\n",
    "thickness_neoprene_m = inches_to_meters(thickness_neoprene)\n",
    "thickness_thinsulate_m = inches_to_meters(thickness_thinsulate)\n",
    "thickness_plywood_m = inches_to_meters(thickness_plywood)\n",
    "T_ambient_k = fahrenheit_to_kelvin(T_ambient)  # Ambient temperature in Kelvin\n",
    "T_bulk_interior_k = fahrenheit_to_kelvin(T_bulk_interior)  # Bulk air temperature in Kelvin\n",
    "\n",
    "# Function to calculate total thermal resistance\n",
    "def total_resistance(h_conv):\n",
    "    #R_neoprene1 = thickness_neoprene_m / (k_neoprene * A)\n",
    "    R_neoprene1 = 0\n",
    "    #R_thinsulate = thickness_thinsulate_m / (k_thinsulate * A)\n",
    "    R_thinsulate = 0\n",
    "    R_plywood = thickness_plywood_m / (k_plywood * A)\n",
    "    #R_neoprene2 = thickness_neoprene_m / (k_neoprene * A)\n",
    "    R_neoprene2 = 0\n",
    "    R_conv = 1 / (h_conv * A)\n",
    "    #return R_neoprene1 + R_thinsulate + R_plywood + R_neoprene2 + R_conv\n",
    "    return R_neoprene1 + R_thinsulate/2 + R_plywood + R_neoprene2 + R_conv\n",
    "\n",
    "\n",
    "# Heat balance function for surface temperature\n",
    "def heat_balance(T_surface, I, emissivity, reflectivity, h_ext, T_ambient_k):\n",
    "    Q_absorbed = I * (1 - reflectivity)  \n",
    "    Q_radiated = emissivity * sigma * A * (T_surface**4 - T_ambient_k**4)\n",
    "    Q_convected = h_ext * A * (T_surface - T_ambient_k)\n",
    "    Q_net = Q_absorbed - Q_radiated - Q_convected\n",
    "    return Q_net\n",
    "\n",
    "# Calculate equilibrium surface temperature\n",
    "def equilibrium_temperature(I, emissivity, reflectivity, h_ext, T_ambient_k):\n",
    "    T_surface_initial = T_ambient_k + 5  # Initial guess slightly above ambient\n",
    "    T_surface_equilibrium = fsolve(heat_balance, T_surface_initial, args=(I, emissivity, reflectivity, h_ext, T_ambient_k))\n",
    "    return T_surface_equilibrium[0]\n",
    "\n",
    "# Calculate energy to remove to maintain internal air temperature\n",
    "def energy_to_remove(I, emissivity, reflectivity, h_ext, h_int, T_ambient_k, T_bulk_interior_k):\n",
    "    T_surface_k = equilibrium_temperature(I, emissivity, reflectivity, h_ext, T_ambient_k)\n",
    "    R_total = total_resistance(h_int)\n",
    "    Q_removed = (T_surface_k - T_bulk_interior_k) / R_total\n",
    "    return T_surface_k, Q_removed\n",
    "\n",
    "# Rough Estimate of delta (shaded vs unshaded) - inaccurate\n",
    "def rough_factor(T_surface_k, T_surface_k_shade):\n",
    "    return (T_surface_k / T_surface_k_shade)\n",
    "\n",
    "# Run the model\n",
    "T_surface_result_k, Q_removed_result = energy_to_remove(I, emissivity, reflectivity, h_ext, h_int, T_ambient_k, T_bulk_interior_k)\n",
    "\n",
    "# Run with no radiation\n",
    "T_surface_result_k_no_rad, Q_removed_result_no_rad = energy_to_remove(0, emissivity, reflectivity, h_ext, h_int, T_ambient_k, T_bulk_interior_k)\n",
    "\n",
    "# Run with 90% shading\n",
    "T_surface_result_k_shade, Q_removed_result_shade = energy_to_remove(0.1 * I, emissivity, reflectivity, h_ext, h_int, T_ambient_k, T_bulk_interior_k)\n",
    "\n",
    "# Convert results to Fahrenheit\n",
    "T_surface_result = kelvin_to_fahrenheit(T_surface_result_k)\n",
    "T_surface_result_no_rad = kelvin_to_fahrenheit(T_surface_result_k_no_rad)\n",
    "T_surface_result_shade = kelvin_to_fahrenheit(T_surface_result_k_shade)\n",
    "\n",
    "# Calculate energy to cool\n",
    "Q_removed_btu_per_hr = watts_to_btu_per_hr(Q_removed_result)\n",
    "energy_cooling = energy_to_cool(eer, Q_removed_btu_per_hr)\n",
    "Q_removed_btu_per_hr_no_rad = watts_to_btu_per_hr(Q_removed_result_no_rad)\n",
    "energy_cooling_no_rad = energy_to_cool(eer, Q_removed_btu_per_hr_no_rad)\n",
    "Q_removed_btu_per_hr_shade = watts_to_btu_per_hr(Q_removed_result_shade)\n",
    "energy_cooling_shade = energy_to_cool(eer, Q_removed_btu_per_hr_shade)\n",
    "\n",
    "# Output results\n",
    "print(f\"Equilibrium Surface Temperature: {T_surface_result:.2f} °F\")\n",
    "print(f\"Energy to Remove: {Q_removed_result:.2f} W\")\n",
    "print(f\"Energy to Cool: {energy_cooling:.2f} W\")\n",
    "print(f\"Equilibrium Surface Temperature (no radiation): {T_surface_result_no_rad:.2f} °F\")\n",
    "print(f\"Energy to Remove (no radiation): {Q_removed_result_no_rad:.2f} W\")\n",
    "print(f\"Energy to Cool (no radiation): {energy_cooling_no_rad:.2f} W\")\n",
    "print(f\"Equilibrium Surface Temperature (90% shading): {T_surface_result_shade:.2f} °F\")\n",
    "print(f\"Energy to Remove (90% shading): {Q_removed_result_shade:.2f} W\")\n",
    "print(f\"Energy to Cool (90% shading): {energy_cooling_shade:.2f} W\")\n",
    "print(f\"Rough Factor (shaded vs unshaded): {rough_factor(T_surface_result_k, T_surface_result_k_shade):.2f}\")\n",
    "print(f\"Factor (shaded vs unshaded) - Energy: {Q_removed_result/Q_removed_result_shade:.2f}\")\n"
   ]
  },
  {
   "cell_type": "markdown",
   "metadata": {},
   "source": [
    "# Top Level Header"
   ]
  },
  {
   "cell_type": "markdown",
   "metadata": {},
   "source": [
    "Lorum ipsum dolor sit amet, consectetur adipiscing elit. Nullam nec pur... "
   ]
  },
  {
   "cell_type": "markdown",
   "metadata": {},
   "source": [
    "## Second Level Header"
   ]
  },
  {
   "cell_type": "markdown",
   "metadata": {},
   "source": [
    "Lorum ipsum dolor sit amet, consectetur adipiscing elit. Nullam nec pur...\n",
    "\n",
    "Per reference @IEC_TR_62240-1, blah blah blah."
   ]
  },
  {
   "cell_type": "markdown",
   "metadata": {},
   "source": [
    "# References"
   ]
  }
 ],
 "metadata": {
  "kernelspec": {
   "display_name": "Python 3",
   "language": "python",
   "name": "python3"
  },
  "language_info": {
   "codemirror_mode": {
    "name": "ipython",
    "version": 3
   },
   "file_extension": ".py",
   "mimetype": "text/x-python",
   "name": "python",
   "nbconvert_exporter": "python",
   "pygments_lexer": "ipython3",
   "version": "3.12.1"
  }
 },
 "nbformat": 4,
 "nbformat_minor": 2
}
